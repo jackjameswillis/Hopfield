{
 "cells": [
  {
   "cell_type": "code",
   "execution_count": 1,
   "id": "66945eb9-3f1b-43cb-92c5-3c8a69d89ee1",
   "metadata": {},
   "outputs": [],
   "source": [
    "import rHN\n",
    "import torch\n",
    "import matplotlib.pyplot as plt\n",
    "from tqdm import tqdm\n",
    "import numpy as np\n"
   ]
  },
  {
   "cell_type": "code",
   "execution_count": 2,
   "id": "73a5097c-de4a-43fc-9330-663f9e0d12c9",
   "metadata": {},
   "outputs": [
    {
     "name": "stdout",
     "output_type": "stream",
     "text": [
      "cpu\n"
     ]
    }
   ],
   "source": [
    "device = torch.device('cuda:0' if torch.cuda.is_available() else 'cpu')\n",
    "\n",
    "print(device)"
   ]
  },
  {
   "cell_type": "code",
   "execution_count": 3,
   "id": "ee914ccc-9108-4bb3-91c5-ac70b0405457",
   "metadata": {},
   "outputs": [],
   "source": [
    "N = 100\n",
    "\n",
    "topologymask = 1 - torch.diag(torch.ones(N))\n",
    "\n",
    "W = torch.from_numpy(np.random.choice((-1, 1), (N, N)))\n",
    "\n",
    "for i in range(N):\n",
    "\n",
    "    for j in range(N):\n",
    "\n",
    "        if np.floor(i/5) == np.floor(j/5):\n",
    "\n",
    "            W[i,j] = np.random.choice((-1, 1), p=(0.1, 0.9))\n",
    "        \n",
    "        else:\n",
    "\n",
    "            W[i,j] = np.random.choice((-0.01, 0.01), p=(0.1, 0.9))\n",
    "\n",
    "W = torch.triu(W)\n",
    "\n",
    "W = W + W.T\n",
    "\n",
    "W = W * topologymask\n",
    "\n",
    "T = 10 * N\n",
    "\n",
    "lr = 0.001 / 10 * N\n",
    "\n",
    "topologymask = topologymask.to(device)\n",
    "\n",
    "W = W.to(device)\n"
   ]
  },
  {
   "cell_type": "code",
   "execution_count": 4,
   "id": "09528fc2-23b9-4424-843c-8b8162841d8c",
   "metadata": {},
   "outputs": [],
   "source": [
    "model = rHN.rHN(W = W,\n",
    "                W0 = W,\n",
    "                topologymask=topologymask,\n",
    "                T = T,\n",
    "                lr = lr)"
   ]
  },
  {
   "cell_type": "code",
   "execution_count": 5,
   "id": "ce68c3c5-8dbd-49b6-aeda-e44256477510",
   "metadata": {},
   "outputs": [
    {
     "name": "stderr",
     "output_type": "stream",
     "text": [
      "100%|██████████| 1000/1000 [00:39<00:00, 25.19it/s]\n"
     ]
    }
   ],
   "source": [
    "relaxations = 1000\n",
    "\n",
    "perturbations = torch.from_numpy(np.random.choice((-1,1), (relaxations, N, 1))).type(torch.float)\n",
    "\n",
    "energy = torch.zeros((relaxations, T))\n",
    "\n",
    "perturbations = perturbations.to(device)\n",
    "\n",
    "energy = energy.to(device)\n",
    "\n",
    "for relaxation in tqdm(range(relaxations)):\n",
    "\n",
    "    model.set_state(perturbations[relaxation])\n",
    "\n",
    "    energy[relaxation] = model.relax(discrete=True)\n",
    "\n",
    "energy = energy.T.numpy()"
   ]
  },
  {
   "cell_type": "code",
   "execution_count": 6,
   "id": "64eb6c58-7f3c-48f9-87ef-03c15afc53ec",
   "metadata": {},
   "outputs": [],
   "source": [
    "E = {'rHN-0':energy}"
   ]
  },
  {
   "cell_type": "code",
   "execution_count": 7,
   "id": "d5875b89-c36c-4989-8d74-18465680a994",
   "metadata": {},
   "outputs": [],
   "source": [
    "model.hebbian_on()"
   ]
  },
  {
   "cell_type": "code",
   "execution_count": null,
   "id": "d921b36b-2621-4edd-87c2-13662782b6b6",
   "metadata": {},
   "outputs": [
    {
     "name": "stderr",
     "output_type": "stream",
     "text": [
      " 49%|████▉     | 494/1000 [00:19<00:18, 27.31it/s]"
     ]
    }
   ],
   "source": [
    "energy = torch.zeros((relaxations, T))\n",
    "\n",
    "energy = energy.to(device)\n",
    "\n",
    "for relaxation in tqdm(range(relaxations)):\n",
    "\n",
    "    model.set_state(perturbations[relaxation])\n",
    "\n",
    "    energy[relaxation] = model.relax(discrete=True)\n",
    "\n",
    "energy = energy.T.numpy()"
   ]
  },
  {
   "cell_type": "code",
   "execution_count": null,
   "id": "ecd84953-51dd-4e6d-b0a6-49926430c1c6",
   "metadata": {},
   "outputs": [],
   "source": [
    "E['rHN-S'] = energy"
   ]
  },
  {
   "cell_type": "code",
   "execution_count": null,
   "id": "0f450bda-00d5-47eb-8755-79c55d94cc23",
   "metadata": {},
   "outputs": [],
   "source": [
    "plt.scatter(np.arange(len(E['rHN-0'][0])), E['rHN-0'][-1], label='rHN-0', s=len(E['rHN-0'])/16)\n",
    "\n",
    "plt.scatter(np.arange(len(E['rHN-0'][0]), len(E['rHN-0'][0])*2), E['rHN-S'][-1], label='rHN-S', s=len(E['rHN-0'])/16)\n",
    "\n",
    "plt.plot([relaxations, relaxations], [-150, -200], '--', color='black')\n",
    "\n",
    "plt.title('End State Energy')\n",
    "\n",
    "plt.xlabel('Relaxations')\n",
    "\n",
    "plt.ylabel('Energy')\n",
    "\n",
    "plt.legend()\n",
    "\n",
    "plt.plot((0,2000),(np.min(E['rHN-0'][-1]), np.min(E['rHN-0'][-1])), color='black')\n",
    "\n",
    "plt.show()"
   ]
  },
  {
   "cell_type": "code",
   "execution_count": null,
   "id": "d4af24db-7094-4813-b5f9-3f16bd65685b",
   "metadata": {},
   "outputs": [],
   "source": []
  }
 ],
 "metadata": {
  "kernelspec": {
   "display_name": "Python 3",
   "language": "python",
   "name": "python3"
  },
  "language_info": {
   "codemirror_mode": {
    "name": "ipython",
    "version": 3
   },
   "file_extension": ".py",
   "mimetype": "text/x-python",
   "name": "python",
   "nbconvert_exporter": "python",
   "pygments_lexer": "ipython3",
   "version": "3.8.8"
  }
 },
 "nbformat": 4,
 "nbformat_minor": 5
}
