{
  "nbformat": 4,
  "nbformat_minor": 0,
  "metadata": {
    "colab": {
      "name": "Hopfield to rHN-S",
      "provenance": [],
      "authorship_tag": "ABX9TyP2/j30sjJiW0yHbu6OVpc2",
      "include_colab_link": true
    },
    "kernelspec": {
      "name": "python3",
      "display_name": "Python 3"
    },
    "language_info": {
      "name": "python"
    }
  },
  "cells": [
    {
      "cell_type": "markdown",
      "metadata": {
        "id": "view-in-github",
        "colab_type": "text"
      },
      "source": [
        "<a href=\"https://colab.research.google.com/github/jackjameswillis/Hopfield/blob/main/Hopfield_to_rHN_S.ipynb\" target=\"_parent\"><img src=\"https://colab.research.google.com/assets/colab-badge.svg\" alt=\"Open In Colab\"/></a>"
      ]
    },
    {
      "cell_type": "markdown",
      "source": [
        "# Introduction\n",
        "\n",
        "This notebook serves as an introduction to the relaxing Hopfield Network with Hebbian learning. Reading the work of Richard Watson is encouraged on this topic, as it lays the foundation for a richer understanding of the possibilities associated with these systems.\n",
        "\n",
        "We work from the Hopfield Network, adding parts at a time. Please note that the discussion of subtleties is left to the literature, which will do a better job than I at providing more rigorous understanding. Think of this as a crash course. I would recommend using a low $N$ at first so that the weight matrix calculations can be seen clearer, i've been using $N = 5$. However, to illustrate clearly in the final graphs what's going on you should set $N$ to be some larger number, such as $N = 20$.\n",
        "\n",
        "# Hopfield Network\n",
        "\n",
        "A Hopfield Network is a recurrent neural network with symmetric weights and a zero diagonal. A network has $N$ nodes.\n",
        "\n"
      ],
      "metadata": {
        "id": "mVASHdOmgm29"
      }
    },
    {
      "cell_type": "code",
      "execution_count": 1,
      "metadata": {
        "id": "7rGJ7T5wgf20"
      },
      "outputs": [],
      "source": [
        "N = 20"
      ]
    },
    {
      "cell_type": "markdown",
      "source": [
        "These nodes are fully connected to form the weights $W$. They form the dynamics by which the state of the network will depend. Hopfield Networks are known as associative memories because you can set the weights such that data can be remembered.\n",
        "\n",
        "If we define random weights, we are defining a random dynamics to the network, and so will not do anything useful, but we will define a network in this way for reasons that will become clear later."
      ],
      "metadata": {
        "id": "9BWwXldUkOcA"
      }
    },
    {
      "cell_type": "code",
      "source": [
        "import numpy as np\n",
        "\n",
        "W = np.random.uniform(low = -1, \n",
        "                      \n",
        "                      high = 1, \n",
        "                      \n",
        "                      size = (N, N))"
      ],
      "metadata": {
        "id": "KmCqBm-skJQ9"
      },
      "execution_count": 2,
      "outputs": []
    },
    {
      "cell_type": "markdown",
      "source": [
        "These weights aren't symmetric or zeroed on the diagonal."
      ],
      "metadata": {
        "id": "t35Zpq9p7x3s"
      }
    },
    {
      "cell_type": "code",
      "source": [
        "topology = 1 - np.diag(np.ones(N))\n",
        "\n",
        "topology"
      ],
      "metadata": {
        "colab": {
          "base_uri": "https://localhost:8080/"
        },
        "id": "n44c-LuYlTu-",
        "outputId": "a5718bf8-6cf6-42fa-defc-285a6d61c7f3"
      },
      "execution_count": 3,
      "outputs": [
        {
          "output_type": "execute_result",
          "data": {
            "text/plain": [
              "array([[0., 1., 1., 1., 1., 1., 1., 1., 1., 1., 1., 1., 1., 1., 1., 1.,\n",
              "        1., 1., 1., 1.],\n",
              "       [1., 0., 1., 1., 1., 1., 1., 1., 1., 1., 1., 1., 1., 1., 1., 1.,\n",
              "        1., 1., 1., 1.],\n",
              "       [1., 1., 0., 1., 1., 1., 1., 1., 1., 1., 1., 1., 1., 1., 1., 1.,\n",
              "        1., 1., 1., 1.],\n",
              "       [1., 1., 1., 0., 1., 1., 1., 1., 1., 1., 1., 1., 1., 1., 1., 1.,\n",
              "        1., 1., 1., 1.],\n",
              "       [1., 1., 1., 1., 0., 1., 1., 1., 1., 1., 1., 1., 1., 1., 1., 1.,\n",
              "        1., 1., 1., 1.],\n",
              "       [1., 1., 1., 1., 1., 0., 1., 1., 1., 1., 1., 1., 1., 1., 1., 1.,\n",
              "        1., 1., 1., 1.],\n",
              "       [1., 1., 1., 1., 1., 1., 0., 1., 1., 1., 1., 1., 1., 1., 1., 1.,\n",
              "        1., 1., 1., 1.],\n",
              "       [1., 1., 1., 1., 1., 1., 1., 0., 1., 1., 1., 1., 1., 1., 1., 1.,\n",
              "        1., 1., 1., 1.],\n",
              "       [1., 1., 1., 1., 1., 1., 1., 1., 0., 1., 1., 1., 1., 1., 1., 1.,\n",
              "        1., 1., 1., 1.],\n",
              "       [1., 1., 1., 1., 1., 1., 1., 1., 1., 0., 1., 1., 1., 1., 1., 1.,\n",
              "        1., 1., 1., 1.],\n",
              "       [1., 1., 1., 1., 1., 1., 1., 1., 1., 1., 0., 1., 1., 1., 1., 1.,\n",
              "        1., 1., 1., 1.],\n",
              "       [1., 1., 1., 1., 1., 1., 1., 1., 1., 1., 1., 0., 1., 1., 1., 1.,\n",
              "        1., 1., 1., 1.],\n",
              "       [1., 1., 1., 1., 1., 1., 1., 1., 1., 1., 1., 1., 0., 1., 1., 1.,\n",
              "        1., 1., 1., 1.],\n",
              "       [1., 1., 1., 1., 1., 1., 1., 1., 1., 1., 1., 1., 1., 0., 1., 1.,\n",
              "        1., 1., 1., 1.],\n",
              "       [1., 1., 1., 1., 1., 1., 1., 1., 1., 1., 1., 1., 1., 1., 0., 1.,\n",
              "        1., 1., 1., 1.],\n",
              "       [1., 1., 1., 1., 1., 1., 1., 1., 1., 1., 1., 1., 1., 1., 1., 0.,\n",
              "        1., 1., 1., 1.],\n",
              "       [1., 1., 1., 1., 1., 1., 1., 1., 1., 1., 1., 1., 1., 1., 1., 1.,\n",
              "        0., 1., 1., 1.],\n",
              "       [1., 1., 1., 1., 1., 1., 1., 1., 1., 1., 1., 1., 1., 1., 1., 1.,\n",
              "        1., 0., 1., 1.],\n",
              "       [1., 1., 1., 1., 1., 1., 1., 1., 1., 1., 1., 1., 1., 1., 1., 1.,\n",
              "        1., 1., 0., 1.],\n",
              "       [1., 1., 1., 1., 1., 1., 1., 1., 1., 1., 1., 1., 1., 1., 1., 1.,\n",
              "        1., 1., 1., 0.]])"
            ]
          },
          "metadata": {},
          "execution_count": 3
        }
      ]
    },
    {
      "cell_type": "markdown",
      "source": [
        "This represents the fully connected topology of the network and will be used later."
      ],
      "metadata": {
        "id": "ttR2kLPg9Qb2"
      }
    },
    {
      "cell_type": "code",
      "source": [
        "W = np.triu(W)\n",
        "\n",
        "W"
      ],
      "metadata": {
        "colab": {
          "base_uri": "https://localhost:8080/"
        },
        "id": "sJ3f4TL68Mxr",
        "outputId": "6dc27f55-8cea-4670-a454-e99ec41ae6f1"
      },
      "execution_count": 4,
      "outputs": [
        {
          "output_type": "execute_result",
          "data": {
            "text/plain": [
              "array([[-0.96801092, -0.12648044, -0.69320446, -0.53678723,  0.05641244,\n",
              "         0.35820394,  0.89736286,  0.28222974,  0.57475973,  0.46611965,\n",
              "         0.41609303, -0.23038741, -0.2975863 , -0.95880346, -0.11621741,\n",
              "        -0.21512442,  0.45962263, -0.70877524,  0.89809484, -0.26144252],\n",
              "       [ 0.        , -0.18785323,  0.04800544, -0.30194064,  0.95647185,\n",
              "         0.4115868 , -0.37013607,  0.33181536, -0.05455134,  0.46939877,\n",
              "        -0.70777516, -0.05232711,  0.48534491,  0.16622189, -0.99177423,\n",
              "         0.78815068,  0.6038034 ,  0.04175109,  0.84379856, -0.06373284],\n",
              "       [ 0.        ,  0.        ,  0.8654953 , -0.08016981, -0.83266933,\n",
              "        -0.00466126, -0.14523914,  0.96322511,  0.23190926,  0.41101617,\n",
              "         0.38354433,  0.72680432, -0.45962673, -0.13911746, -0.58883652,\n",
              "         0.77943806, -0.52044193, -0.59534613,  0.83242933, -0.1687078 ],\n",
              "       [ 0.        ,  0.        ,  0.        ,  0.29426293, -0.44804195,\n",
              "        -0.2121137 ,  0.71469992, -0.61353057, -0.81359498,  0.80140368,\n",
              "         0.46760378,  0.02589608, -0.29133846, -0.58906076,  0.08331461,\n",
              "        -0.65679619,  0.73440225, -0.89414262, -0.96581667,  0.1160127 ],\n",
              "       [ 0.        ,  0.        ,  0.        ,  0.        , -0.76250422,\n",
              "        -0.37016723,  0.03909524, -0.61826997,  0.24480097, -0.24953816,\n",
              "        -0.28362319,  0.66899124, -0.22983941, -0.23731888, -0.70303163,\n",
              "        -0.79460426, -0.29445241, -0.36500181, -0.08517051,  0.19747217],\n",
              "       [ 0.        ,  0.        ,  0.        ,  0.        ,  0.        ,\n",
              "         0.63940024, -0.4204827 ,  0.69342876, -0.41305517,  0.31138282,\n",
              "         0.7351048 ,  0.86464827, -0.2654418 ,  0.04561306,  0.46015386,\n",
              "         0.43987267,  0.36479166,  0.51056286, -0.55094427,  0.64028275],\n",
              "       [ 0.        ,  0.        ,  0.        ,  0.        ,  0.        ,\n",
              "         0.        , -0.84913864,  0.1701392 ,  0.00801606, -0.08993125,\n",
              "        -0.74188747, -0.22185186,  0.40698333,  0.16778779,  0.51055383,\n",
              "         0.63672019,  0.09240087, -0.50528284, -0.7746419 , -0.81686869],\n",
              "       [ 0.        ,  0.        ,  0.        ,  0.        ,  0.        ,\n",
              "         0.        ,  0.        ,  0.5328104 , -0.26089976, -0.78959763,\n",
              "         0.3228515 ,  0.07490498,  0.25137848,  0.30620943, -0.77277925,\n",
              "         0.76682074,  0.63867749,  0.15075681, -0.68407351,  0.91042283],\n",
              "       [ 0.        ,  0.        ,  0.        ,  0.        ,  0.        ,\n",
              "         0.        ,  0.        ,  0.        , -0.17767833,  0.50591719,\n",
              "         0.00616898,  0.10675144,  0.53531878,  0.5383337 , -0.00757119,\n",
              "         0.51063323,  0.06994696, -0.31253489,  0.32643867,  0.73056536],\n",
              "       [ 0.        ,  0.        ,  0.        ,  0.        ,  0.        ,\n",
              "         0.        ,  0.        ,  0.        ,  0.        ,  0.94557469,\n",
              "         0.69291095,  0.06580403,  0.78076232,  0.39840793, -0.41678613,\n",
              "         0.7217828 ,  0.33903598, -0.91956686,  0.30025529,  0.03303957],\n",
              "       [ 0.        ,  0.        ,  0.        ,  0.        ,  0.        ,\n",
              "         0.        ,  0.        ,  0.        ,  0.        ,  0.        ,\n",
              "        -0.92465298, -0.07419102, -0.1562761 ,  0.44522012,  0.92287507,\n",
              "         0.36924346, -0.72855245, -0.04842334, -0.78140235,  0.50593959],\n",
              "       [ 0.        ,  0.        ,  0.        ,  0.        ,  0.        ,\n",
              "         0.        ,  0.        ,  0.        ,  0.        ,  0.        ,\n",
              "         0.        , -0.37800665,  0.49328215, -0.69495862, -0.17320589,\n",
              "         0.74762363,  0.82373693,  0.29772296, -0.11498207, -0.73599759],\n",
              "       [ 0.        ,  0.        ,  0.        ,  0.        ,  0.        ,\n",
              "         0.        ,  0.        ,  0.        ,  0.        ,  0.        ,\n",
              "         0.        ,  0.        , -0.94534202,  0.6481377 ,  0.18725849,\n",
              "        -0.54182363, -0.92877099,  0.66557119,  0.09324673, -0.12933914],\n",
              "       [ 0.        ,  0.        ,  0.        ,  0.        ,  0.        ,\n",
              "         0.        ,  0.        ,  0.        ,  0.        ,  0.        ,\n",
              "         0.        ,  0.        ,  0.        , -0.13701558, -0.43049297,\n",
              "         0.75283348,  0.87644408,  0.87463015, -0.69758296,  0.61119931],\n",
              "       [ 0.        ,  0.        ,  0.        ,  0.        ,  0.        ,\n",
              "         0.        ,  0.        ,  0.        ,  0.        ,  0.        ,\n",
              "         0.        ,  0.        ,  0.        ,  0.        , -0.70321243,\n",
              "        -0.67230188, -0.96303218,  0.49322275,  0.18233453,  0.95093149],\n",
              "       [ 0.        ,  0.        ,  0.        ,  0.        ,  0.        ,\n",
              "         0.        ,  0.        ,  0.        ,  0.        ,  0.        ,\n",
              "         0.        ,  0.        ,  0.        ,  0.        ,  0.        ,\n",
              "        -0.07829529,  0.78091499,  0.2241961 , -0.91009817, -0.07591802],\n",
              "       [ 0.        ,  0.        ,  0.        ,  0.        ,  0.        ,\n",
              "         0.        ,  0.        ,  0.        ,  0.        ,  0.        ,\n",
              "         0.        ,  0.        ,  0.        ,  0.        ,  0.        ,\n",
              "         0.        ,  0.00361267, -0.72897426,  0.82781553,  0.26177617],\n",
              "       [ 0.        ,  0.        ,  0.        ,  0.        ,  0.        ,\n",
              "         0.        ,  0.        ,  0.        ,  0.        ,  0.        ,\n",
              "         0.        ,  0.        ,  0.        ,  0.        ,  0.        ,\n",
              "         0.        ,  0.        , -0.26474972, -0.63482386, -0.12407063],\n",
              "       [ 0.        ,  0.        ,  0.        ,  0.        ,  0.        ,\n",
              "         0.        ,  0.        ,  0.        ,  0.        ,  0.        ,\n",
              "         0.        ,  0.        ,  0.        ,  0.        ,  0.        ,\n",
              "         0.        ,  0.        ,  0.        , -0.44081436, -0.15239194],\n",
              "       [ 0.        ,  0.        ,  0.        ,  0.        ,  0.        ,\n",
              "         0.        ,  0.        ,  0.        ,  0.        ,  0.        ,\n",
              "         0.        ,  0.        ,  0.        ,  0.        ,  0.        ,\n",
              "         0.        ,  0.        ,  0.        ,  0.        , -0.09872401]])"
            ]
          },
          "metadata": {},
          "execution_count": 4
        }
      ]
    },
    {
      "cell_type": "markdown",
      "source": [
        "If unclear from the size of your network, the lower triangle of the weights has been removed."
      ],
      "metadata": {
        "id": "DcjEygqW8YnB"
      }
    },
    {
      "cell_type": "code",
      "source": [
        "W = W + W.T\n",
        "\n",
        "W"
      ],
      "metadata": {
        "colab": {
          "base_uri": "https://localhost:8080/"
        },
        "id": "lyxmCEWJ8UCn",
        "outputId": "70e14a2e-a9ed-46e1-aeb2-9bcac3b90866"
      },
      "execution_count": 5,
      "outputs": [
        {
          "output_type": "execute_result",
          "data": {
            "text/plain": [
              "array([[-1.93602183, -0.12648044, -0.69320446, -0.53678723,  0.05641244,\n",
              "         0.35820394,  0.89736286,  0.28222974,  0.57475973,  0.46611965,\n",
              "         0.41609303, -0.23038741, -0.2975863 , -0.95880346, -0.11621741,\n",
              "        -0.21512442,  0.45962263, -0.70877524,  0.89809484, -0.26144252],\n",
              "       [-0.12648044, -0.37570645,  0.04800544, -0.30194064,  0.95647185,\n",
              "         0.4115868 , -0.37013607,  0.33181536, -0.05455134,  0.46939877,\n",
              "        -0.70777516, -0.05232711,  0.48534491,  0.16622189, -0.99177423,\n",
              "         0.78815068,  0.6038034 ,  0.04175109,  0.84379856, -0.06373284],\n",
              "       [-0.69320446,  0.04800544,  1.73099061, -0.08016981, -0.83266933,\n",
              "        -0.00466126, -0.14523914,  0.96322511,  0.23190926,  0.41101617,\n",
              "         0.38354433,  0.72680432, -0.45962673, -0.13911746, -0.58883652,\n",
              "         0.77943806, -0.52044193, -0.59534613,  0.83242933, -0.1687078 ],\n",
              "       [-0.53678723, -0.30194064, -0.08016981,  0.58852586, -0.44804195,\n",
              "        -0.2121137 ,  0.71469992, -0.61353057, -0.81359498,  0.80140368,\n",
              "         0.46760378,  0.02589608, -0.29133846, -0.58906076,  0.08331461,\n",
              "        -0.65679619,  0.73440225, -0.89414262, -0.96581667,  0.1160127 ],\n",
              "       [ 0.05641244,  0.95647185, -0.83266933, -0.44804195, -1.52500845,\n",
              "        -0.37016723,  0.03909524, -0.61826997,  0.24480097, -0.24953816,\n",
              "        -0.28362319,  0.66899124, -0.22983941, -0.23731888, -0.70303163,\n",
              "        -0.79460426, -0.29445241, -0.36500181, -0.08517051,  0.19747217],\n",
              "       [ 0.35820394,  0.4115868 , -0.00466126, -0.2121137 , -0.37016723,\n",
              "         1.27880047, -0.4204827 ,  0.69342876, -0.41305517,  0.31138282,\n",
              "         0.7351048 ,  0.86464827, -0.2654418 ,  0.04561306,  0.46015386,\n",
              "         0.43987267,  0.36479166,  0.51056286, -0.55094427,  0.64028275],\n",
              "       [ 0.89736286, -0.37013607, -0.14523914,  0.71469992,  0.03909524,\n",
              "        -0.4204827 , -1.69827728,  0.1701392 ,  0.00801606, -0.08993125,\n",
              "        -0.74188747, -0.22185186,  0.40698333,  0.16778779,  0.51055383,\n",
              "         0.63672019,  0.09240087, -0.50528284, -0.7746419 , -0.81686869],\n",
              "       [ 0.28222974,  0.33181536,  0.96322511, -0.61353057, -0.61826997,\n",
              "         0.69342876,  0.1701392 ,  1.0656208 , -0.26089976, -0.78959763,\n",
              "         0.3228515 ,  0.07490498,  0.25137848,  0.30620943, -0.77277925,\n",
              "         0.76682074,  0.63867749,  0.15075681, -0.68407351,  0.91042283],\n",
              "       [ 0.57475973, -0.05455134,  0.23190926, -0.81359498,  0.24480097,\n",
              "        -0.41305517,  0.00801606, -0.26089976, -0.35535665,  0.50591719,\n",
              "         0.00616898,  0.10675144,  0.53531878,  0.5383337 , -0.00757119,\n",
              "         0.51063323,  0.06994696, -0.31253489,  0.32643867,  0.73056536],\n",
              "       [ 0.46611965,  0.46939877,  0.41101617,  0.80140368, -0.24953816,\n",
              "         0.31138282, -0.08993125, -0.78959763,  0.50591719,  1.89114937,\n",
              "         0.69291095,  0.06580403,  0.78076232,  0.39840793, -0.41678613,\n",
              "         0.7217828 ,  0.33903598, -0.91956686,  0.30025529,  0.03303957],\n",
              "       [ 0.41609303, -0.70777516,  0.38354433,  0.46760378, -0.28362319,\n",
              "         0.7351048 , -0.74188747,  0.3228515 ,  0.00616898,  0.69291095,\n",
              "        -1.84930596, -0.07419102, -0.1562761 ,  0.44522012,  0.92287507,\n",
              "         0.36924346, -0.72855245, -0.04842334, -0.78140235,  0.50593959],\n",
              "       [-0.23038741, -0.05232711,  0.72680432,  0.02589608,  0.66899124,\n",
              "         0.86464827, -0.22185186,  0.07490498,  0.10675144,  0.06580403,\n",
              "        -0.07419102, -0.75601329,  0.49328215, -0.69495862, -0.17320589,\n",
              "         0.74762363,  0.82373693,  0.29772296, -0.11498207, -0.73599759],\n",
              "       [-0.2975863 ,  0.48534491, -0.45962673, -0.29133846, -0.22983941,\n",
              "        -0.2654418 ,  0.40698333,  0.25137848,  0.53531878,  0.78076232,\n",
              "        -0.1562761 ,  0.49328215, -1.89068404,  0.6481377 ,  0.18725849,\n",
              "        -0.54182363, -0.92877099,  0.66557119,  0.09324673, -0.12933914],\n",
              "       [-0.95880346,  0.16622189, -0.13911746, -0.58906076, -0.23731888,\n",
              "         0.04561306,  0.16778779,  0.30620943,  0.5383337 ,  0.39840793,\n",
              "         0.44522012, -0.69495862,  0.6481377 , -0.27403117, -0.43049297,\n",
              "         0.75283348,  0.87644408,  0.87463015, -0.69758296,  0.61119931],\n",
              "       [-0.11621741, -0.99177423, -0.58883652,  0.08331461, -0.70303163,\n",
              "         0.46015386,  0.51055383, -0.77277925, -0.00757119, -0.41678613,\n",
              "         0.92287507, -0.17320589,  0.18725849, -0.43049297, -1.40642485,\n",
              "        -0.67230188, -0.96303218,  0.49322275,  0.18233453,  0.95093149],\n",
              "       [-0.21512442,  0.78815068,  0.77943806, -0.65679619, -0.79460426,\n",
              "         0.43987267,  0.63672019,  0.76682074,  0.51063323,  0.7217828 ,\n",
              "         0.36924346,  0.74762363, -0.54182363,  0.75283348, -0.67230188,\n",
              "        -0.15659059,  0.78091499,  0.2241961 , -0.91009817, -0.07591802],\n",
              "       [ 0.45962263,  0.6038034 , -0.52044193,  0.73440225, -0.29445241,\n",
              "         0.36479166,  0.09240087,  0.63867749,  0.06994696,  0.33903598,\n",
              "        -0.72855245,  0.82373693, -0.92877099,  0.87644408, -0.96303218,\n",
              "         0.78091499,  0.00722533, -0.72897426,  0.82781553,  0.26177617],\n",
              "       [-0.70877524,  0.04175109, -0.59534613, -0.89414262, -0.36500181,\n",
              "         0.51056286, -0.50528284,  0.15075681, -0.31253489, -0.91956686,\n",
              "        -0.04842334,  0.29772296,  0.66557119,  0.87463015,  0.49322275,\n",
              "         0.2241961 , -0.72897426, -0.52949943, -0.63482386, -0.12407063],\n",
              "       [ 0.89809484,  0.84379856,  0.83242933, -0.96581667, -0.08517051,\n",
              "        -0.55094427, -0.7746419 , -0.68407351,  0.32643867,  0.30025529,\n",
              "        -0.78140235, -0.11498207,  0.09324673, -0.69758296,  0.18233453,\n",
              "        -0.91009817,  0.82781553, -0.63482386, -0.88162871, -0.15239194],\n",
              "       [-0.26144252, -0.06373284, -0.1687078 ,  0.1160127 ,  0.19747217,\n",
              "         0.64028275, -0.81686869,  0.91042283,  0.73056536,  0.03303957,\n",
              "         0.50593959, -0.73599759, -0.12933914,  0.61119931,  0.95093149,\n",
              "        -0.07591802,  0.26177617, -0.12407063, -0.15239194, -0.19744801]])"
            ]
          },
          "metadata": {},
          "execution_count": 5
        }
      ]
    },
    {
      "cell_type": "markdown",
      "source": [
        "Again, if unclear from the size of your network, the weights have been made symmetric."
      ],
      "metadata": {
        "id": "tJEbIHEj89oS"
      }
    },
    {
      "cell_type": "code",
      "source": [
        "W = W * topology\n",
        "\n",
        "W"
      ],
      "metadata": {
        "colab": {
          "base_uri": "https://localhost:8080/"
        },
        "id": "WZN3NqRG8xo9",
        "outputId": "bbd9d6fe-a890-49f7-ad49-a799e529480c"
      },
      "execution_count": 6,
      "outputs": [
        {
          "output_type": "execute_result",
          "data": {
            "text/plain": [
              "array([[-0.        , -0.12648044, -0.69320446, -0.53678723,  0.05641244,\n",
              "         0.35820394,  0.89736286,  0.28222974,  0.57475973,  0.46611965,\n",
              "         0.41609303, -0.23038741, -0.2975863 , -0.95880346, -0.11621741,\n",
              "        -0.21512442,  0.45962263, -0.70877524,  0.89809484, -0.26144252],\n",
              "       [-0.12648044, -0.        ,  0.04800544, -0.30194064,  0.95647185,\n",
              "         0.4115868 , -0.37013607,  0.33181536, -0.05455134,  0.46939877,\n",
              "        -0.70777516, -0.05232711,  0.48534491,  0.16622189, -0.99177423,\n",
              "         0.78815068,  0.6038034 ,  0.04175109,  0.84379856, -0.06373284],\n",
              "       [-0.69320446,  0.04800544,  0.        , -0.08016981, -0.83266933,\n",
              "        -0.00466126, -0.14523914,  0.96322511,  0.23190926,  0.41101617,\n",
              "         0.38354433,  0.72680432, -0.45962673, -0.13911746, -0.58883652,\n",
              "         0.77943806, -0.52044193, -0.59534613,  0.83242933, -0.1687078 ],\n",
              "       [-0.53678723, -0.30194064, -0.08016981,  0.        , -0.44804195,\n",
              "        -0.2121137 ,  0.71469992, -0.61353057, -0.81359498,  0.80140368,\n",
              "         0.46760378,  0.02589608, -0.29133846, -0.58906076,  0.08331461,\n",
              "        -0.65679619,  0.73440225, -0.89414262, -0.96581667,  0.1160127 ],\n",
              "       [ 0.05641244,  0.95647185, -0.83266933, -0.44804195, -0.        ,\n",
              "        -0.37016723,  0.03909524, -0.61826997,  0.24480097, -0.24953816,\n",
              "        -0.28362319,  0.66899124, -0.22983941, -0.23731888, -0.70303163,\n",
              "        -0.79460426, -0.29445241, -0.36500181, -0.08517051,  0.19747217],\n",
              "       [ 0.35820394,  0.4115868 , -0.00466126, -0.2121137 , -0.37016723,\n",
              "         0.        , -0.4204827 ,  0.69342876, -0.41305517,  0.31138282,\n",
              "         0.7351048 ,  0.86464827, -0.2654418 ,  0.04561306,  0.46015386,\n",
              "         0.43987267,  0.36479166,  0.51056286, -0.55094427,  0.64028275],\n",
              "       [ 0.89736286, -0.37013607, -0.14523914,  0.71469992,  0.03909524,\n",
              "        -0.4204827 , -0.        ,  0.1701392 ,  0.00801606, -0.08993125,\n",
              "        -0.74188747, -0.22185186,  0.40698333,  0.16778779,  0.51055383,\n",
              "         0.63672019,  0.09240087, -0.50528284, -0.7746419 , -0.81686869],\n",
              "       [ 0.28222974,  0.33181536,  0.96322511, -0.61353057, -0.61826997,\n",
              "         0.69342876,  0.1701392 ,  0.        , -0.26089976, -0.78959763,\n",
              "         0.3228515 ,  0.07490498,  0.25137848,  0.30620943, -0.77277925,\n",
              "         0.76682074,  0.63867749,  0.15075681, -0.68407351,  0.91042283],\n",
              "       [ 0.57475973, -0.05455134,  0.23190926, -0.81359498,  0.24480097,\n",
              "        -0.41305517,  0.00801606, -0.26089976, -0.        ,  0.50591719,\n",
              "         0.00616898,  0.10675144,  0.53531878,  0.5383337 , -0.00757119,\n",
              "         0.51063323,  0.06994696, -0.31253489,  0.32643867,  0.73056536],\n",
              "       [ 0.46611965,  0.46939877,  0.41101617,  0.80140368, -0.24953816,\n",
              "         0.31138282, -0.08993125, -0.78959763,  0.50591719,  0.        ,\n",
              "         0.69291095,  0.06580403,  0.78076232,  0.39840793, -0.41678613,\n",
              "         0.7217828 ,  0.33903598, -0.91956686,  0.30025529,  0.03303957],\n",
              "       [ 0.41609303, -0.70777516,  0.38354433,  0.46760378, -0.28362319,\n",
              "         0.7351048 , -0.74188747,  0.3228515 ,  0.00616898,  0.69291095,\n",
              "        -0.        , -0.07419102, -0.1562761 ,  0.44522012,  0.92287507,\n",
              "         0.36924346, -0.72855245, -0.04842334, -0.78140235,  0.50593959],\n",
              "       [-0.23038741, -0.05232711,  0.72680432,  0.02589608,  0.66899124,\n",
              "         0.86464827, -0.22185186,  0.07490498,  0.10675144,  0.06580403,\n",
              "        -0.07419102, -0.        ,  0.49328215, -0.69495862, -0.17320589,\n",
              "         0.74762363,  0.82373693,  0.29772296, -0.11498207, -0.73599759],\n",
              "       [-0.2975863 ,  0.48534491, -0.45962673, -0.29133846, -0.22983941,\n",
              "        -0.2654418 ,  0.40698333,  0.25137848,  0.53531878,  0.78076232,\n",
              "        -0.1562761 ,  0.49328215, -0.        ,  0.6481377 ,  0.18725849,\n",
              "        -0.54182363, -0.92877099,  0.66557119,  0.09324673, -0.12933914],\n",
              "       [-0.95880346,  0.16622189, -0.13911746, -0.58906076, -0.23731888,\n",
              "         0.04561306,  0.16778779,  0.30620943,  0.5383337 ,  0.39840793,\n",
              "         0.44522012, -0.69495862,  0.6481377 , -0.        , -0.43049297,\n",
              "         0.75283348,  0.87644408,  0.87463015, -0.69758296,  0.61119931],\n",
              "       [-0.11621741, -0.99177423, -0.58883652,  0.08331461, -0.70303163,\n",
              "         0.46015386,  0.51055383, -0.77277925, -0.00757119, -0.41678613,\n",
              "         0.92287507, -0.17320589,  0.18725849, -0.43049297, -0.        ,\n",
              "        -0.67230188, -0.96303218,  0.49322275,  0.18233453,  0.95093149],\n",
              "       [-0.21512442,  0.78815068,  0.77943806, -0.65679619, -0.79460426,\n",
              "         0.43987267,  0.63672019,  0.76682074,  0.51063323,  0.7217828 ,\n",
              "         0.36924346,  0.74762363, -0.54182363,  0.75283348, -0.67230188,\n",
              "        -0.        ,  0.78091499,  0.2241961 , -0.91009817, -0.07591802],\n",
              "       [ 0.45962263,  0.6038034 , -0.52044193,  0.73440225, -0.29445241,\n",
              "         0.36479166,  0.09240087,  0.63867749,  0.06994696,  0.33903598,\n",
              "        -0.72855245,  0.82373693, -0.92877099,  0.87644408, -0.96303218,\n",
              "         0.78091499,  0.        , -0.72897426,  0.82781553,  0.26177617],\n",
              "       [-0.70877524,  0.04175109, -0.59534613, -0.89414262, -0.36500181,\n",
              "         0.51056286, -0.50528284,  0.15075681, -0.31253489, -0.91956686,\n",
              "        -0.04842334,  0.29772296,  0.66557119,  0.87463015,  0.49322275,\n",
              "         0.2241961 , -0.72897426, -0.        , -0.63482386, -0.12407063],\n",
              "       [ 0.89809484,  0.84379856,  0.83242933, -0.96581667, -0.08517051,\n",
              "        -0.55094427, -0.7746419 , -0.68407351,  0.32643867,  0.30025529,\n",
              "        -0.78140235, -0.11498207,  0.09324673, -0.69758296,  0.18233453,\n",
              "        -0.91009817,  0.82781553, -0.63482386, -0.        , -0.15239194],\n",
              "       [-0.26144252, -0.06373284, -0.1687078 ,  0.1160127 ,  0.19747217,\n",
              "         0.64028275, -0.81686869,  0.91042283,  0.73056536,  0.03303957,\n",
              "         0.50593959, -0.73599759, -0.12933914,  0.61119931,  0.95093149,\n",
              "        -0.07591802,  0.26177617, -0.12407063, -0.15239194, -0.        ]])"
            ]
          },
          "metadata": {},
          "execution_count": 6
        }
      ]
    },
    {
      "cell_type": "markdown",
      "source": [
        "The diagonal has been zeroed.\n",
        "\n",
        "Our network of $N$ nodes has a state vector $S \\in \\{-1|1\\}^{N \\times 1}$."
      ],
      "metadata": {
        "id": "sYGRFRjn9gGb"
      }
    },
    {
      "cell_type": "code",
      "source": [
        "S = np.random.choice(a = (-1, 1),\n",
        "                     \n",
        "                     size = (N, 1))\n",
        "\n",
        "S"
      ],
      "metadata": {
        "colab": {
          "base_uri": "https://localhost:8080/"
        },
        "id": "dD3ez-Oi9d0g",
        "outputId": "619f1e63-0b57-4248-d636-d4e920fc6564"
      },
      "execution_count": 7,
      "outputs": [
        {
          "output_type": "execute_result",
          "data": {
            "text/plain": [
              "array([[-1],\n",
              "       [ 1],\n",
              "       [ 1],\n",
              "       [-1],\n",
              "       [-1],\n",
              "       [ 1],\n",
              "       [ 1],\n",
              "       [ 1],\n",
              "       [-1],\n",
              "       [-1],\n",
              "       [-1],\n",
              "       [-1],\n",
              "       [ 1],\n",
              "       [-1],\n",
              "       [ 1],\n",
              "       [-1],\n",
              "       [ 1],\n",
              "       [ 1],\n",
              "       [-1],\n",
              "       [ 1]])"
            ]
          },
          "metadata": {},
          "execution_count": 7
        }
      ]
    },
    {
      "cell_type": "markdown",
      "source": [
        "In order to progress our network, we randomly sample a node from the network and change it via our update equation:\n",
        "\n",
        "$$S_{i}(t + 1) = \\text{sign}(W_{i} \\cdot S(t))$$"
      ],
      "metadata": {
        "id": "y2qCtZ3q_-og"
      }
    },
    {
      "cell_type": "code",
      "source": [
        "def update(W, S, i):\n",
        "\n",
        "  S[i] = np.sign(W[i] @ S)\n",
        "\n",
        "  return S"
      ],
      "metadata": {
        "id": "eeCzzObT-2k-"
      },
      "execution_count": 8,
      "outputs": []
    },
    {
      "cell_type": "markdown",
      "source": [
        "A total number of state updates T must be defined."
      ],
      "metadata": {
        "id": "2nSgXyj8DP0F"
      }
    },
    {
      "cell_type": "code",
      "source": [
        "T = 10 * N"
      ],
      "metadata": {
        "id": "m8x_K6nlDNst"
      },
      "execution_count": 9,
      "outputs": []
    },
    {
      "cell_type": "markdown",
      "source": [
        "When this update rule is applied to a Hopfield Network, it is said to minimize an energy function E:\n",
        "\n",
        "$$E(t) = -\\frac{(S(t)^{T} \\cdot W(0)) \\cdot S(t)}{2}$$"
      ],
      "metadata": {
        "id": "NXZe5THnDnhy"
      }
    },
    {
      "cell_type": "code",
      "source": [
        "def E(W0, S):\n",
        "\n",
        "  return -((S.T @ W0) @ S) / 2"
      ],
      "metadata": {
        "id": "WIRzbWl4Djhi"
      },
      "execution_count": 10,
      "outputs": []
    },
    {
      "cell_type": "markdown",
      "source": [
        "So that given enough time the state will update into a state at a local minima in the energy landscape. Since a normal Hopfield Network does not alter its weights through time, for now $W(0) = W$."
      ],
      "metadata": {
        "id": "mXvtsk7IE9iu"
      }
    },
    {
      "cell_type": "code",
      "source": [
        "E_t = np.arange(T)\n",
        "\n",
        "S_t = np.zeros((T, N, 1))"
      ],
      "metadata": {
        "id": "o-F662krE6BH"
      },
      "execution_count": 11,
      "outputs": []
    },
    {
      "cell_type": "code",
      "source": [
        "E_t[0] = E(W, S)\n",
        "\n",
        "for t in range(1, T):\n",
        "\n",
        "  i = np.random.randint(0, N)\n",
        "\n",
        "  S = update(W, S, i)\n",
        "\n",
        "  S_t[t] = S\n",
        "\n",
        "  E_t[t] = E(W, S)"
      ],
      "metadata": {
        "id": "j2V3EnN-Fxwc"
      },
      "execution_count": 12,
      "outputs": []
    },
    {
      "cell_type": "code",
      "source": [
        "import matplotlib.pyplot as plt\n",
        "\n",
        "plt.plot(E_t)\n",
        "\n",
        "plt.xlabel('t')\n",
        "\n",
        "plt.ylabel('E')\n",
        "\n",
        "plt.show()"
      ],
      "metadata": {
        "colab": {
          "base_uri": "https://localhost:8080/",
          "height": 279
        },
        "id": "BW-oAUcfG36A",
        "outputId": "bec48edb-440f-49b0-c80f-bd93110bf9ae"
      },
      "execution_count": 13,
      "outputs": [
        {
          "output_type": "display_data",
          "data": {
            "image/png": "[encoded data removed]",
            "text/plain": [
              "<Figure size 432x288 with 1 Axes>"
            ]
          },
          "metadata": {
            "needs_background": "light"
          }
        }
      ]
    },
    {
      "cell_type": "markdown",
      "source": [
        "This graph shows the energy of the network decreasing through time as the state gets updated."
      ],
      "metadata": {
        "id": "jTGz3n94IJD4"
      }
    },
    {
      "cell_type": "code",
      "source": [
        "# S_t has shape (T, N, 1), S_t.T has shape (1, N, T), S_t.T[0] has shape (N, T), S_t.T[0].T has shape (T, N)\n",
        "plt.imshow(S_t.T[0].T)\n",
        "\n",
        "plt.xlabel('S')\n",
        "\n",
        "plt.ylabel('t')\n",
        "\n",
        "plt.show()"
      ],
      "metadata": {
        "colab": {
          "base_uri": "https://localhost:8080/",
          "height": 283
        },
        "id": "vBIL80BaHI8j",
        "outputId": "2d78178b-b6ae-436e-9b57-c6bc59debc9c"
      },
      "execution_count": 14,
      "outputs": [
        {
          "output_type": "display_data",
          "data": {
            "image/png": "[encoded data removed]",
            "text/plain": [
              "<Figure size 432x288 with 1 Axes>"
            ]
          },
          "metadata": {
            "needs_background": "light"
          }
        }
      ]
    },
    {
      "cell_type": "markdown",
      "source": [
        "This image shows the state of the network changing through time. From the update function, we take the sign of the dot product between the weights and the state, so dark is $-1$ and light is $1$.\n",
        "\n",
        "We can look at the energy through time for a random selection of states. When we are considering each of these states, we can think of them as nodes in tension, and the network being released to resolve its tension by its own dynamics. We will call the states perturbations of our network, and define relaxations as periods of time where the network is allowed to update $T$ times."
      ],
      "metadata": {
        "id": "dgFBjjFVIbqp"
      }
    },
    {
      "cell_type": "code",
      "source": [
        "relaxations = 100\n",
        "\n",
        "perturbations = np.random.choice((-1, 1), (relaxations, N, 1))\n",
        "\n",
        "E_t = np.zeros((relaxations, T))\n",
        "\n",
        "for relaxation in range(relaxations):\n",
        "\n",
        "  S = perturbations[relaxation]\n",
        "\n",
        "  E_t[relaxation, 0] = E(W, S) \n",
        "\n",
        "  for t in range(1, T):\n",
        "\n",
        "    i = np.random.randint(0, N)\n",
        "\n",
        "    S = update(W, S, i)\n",
        "\n",
        "    E_t[relaxation, t] = E(W, S)"
      ],
      "metadata": {
        "id": "KvxBOlcLHf3r"
      },
      "execution_count": 15,
      "outputs": []
    },
    {
      "cell_type": "code",
      "source": [
        "energy = {'rHN-0': E_t}"
      ],
      "metadata": {
        "id": "XyIZLYSmXFSq"
      },
      "execution_count": 16,
      "outputs": []
    },
    {
      "cell_type": "code",
      "source": [
        "plt.plot(E_t.T)\n",
        "\n",
        "plt.xlabel('t')\n",
        "\n",
        "plt.ylabel('E')\n",
        "\n",
        "plt.show()"
      ],
      "metadata": {
        "colab": {
          "base_uri": "https://localhost:8080/",
          "height": 283
        },
        "id": "-TQeowlpNt8X",
        "outputId": "97aa01c6-65ce-4410-b0e6-8b0162c6f867"
      },
      "execution_count": 17,
      "outputs": [
        {
          "output_type": "display_data",
          "data": {
            "image/png": "[encoded data removed]",
            "text/plain": [
              "<Figure size 432x288 with 1 Axes>"
            ]
          },
          "metadata": {
            "needs_background": "light"
          }
        }
      ]
    },
    {
      "cell_type": "markdown",
      "source": [
        "What we have so far is an asynchronous (because we select one node to update at a time) discrete (the number of states is discrete) relaxing Hopfield Network, known by rHN-0.\n",
        "\n",
        "Consider this illustrative example to embbed these networks in reality. In the sport of climbing, it is important to have a community of people who can push you to go further. Some people challenge you and rival you, some people give advice. There are also people you don't vibe with, and you want to avoid them. Imagine a population of climbers as nodes on a network, and their value depends on which of two climbing gyms they're at:\n",
        "\n",
        "* -1 if they're at Boulder Brighton\n",
        "* 1 if they're at HighSports\n",
        "\n",
        "The network is fully connected, and the weights correspond to how beneficial it is for climber i's climbing ability to be around climber j. If climber j is at Boulder Brighton and it is beneficial for climber i to be around them (positive weight, such as 0.5), then climber j's contribution to climber i's update will be negative:\n",
        "\n",
        "$$W_{i,j}S_{j},$$\n",
        "\n",
        "substituting $W_{i,j} = 0.5$, $S_{j} = -1$, we get a contribution of $-0.5$. This means that climber $j$ has a pulling effect on climber $i$ towards the value of climber $j$. A random state would be equivalent to placing the population randomly between the two gyms. The random weights decide random amounts of benefit between members of the population.\n",
        "\n",
        "The next step is to allow each climber to have habits, in the sense that they begin to be drawn towards climbers they find themselves around after their network has 'relaxed'. We can do this via Hebbian learning, which has us update the weights by:\n",
        "\n",
        "$$W(t + 1) = W(t) + r(S(t)S(t)^{T})\\text{topology},$$\n",
        "\n",
        "where $r$ is a learning rate."
      ],
      "metadata": {
        "id": "PdTE8gc8QLU6"
      }
    },
    {
      "cell_type": "code",
      "source": [
        "perturbations = np.random.choice((-1, 1), (relaxations, N, 1))\n",
        "\n",
        "E_t = np.zeros((relaxations, T))\n",
        "\n",
        "# Now that weights are changing, we record the original weights\n",
        "W0 = W\n",
        "\n",
        "r = 0.01 / 10 * N\n",
        "\n",
        "for relaxation in range(relaxations):\n",
        "\n",
        "  S = perturbations[relaxation]\n",
        "\n",
        "  E_t[relaxation, 0] = E(W0, S) \n",
        "\n",
        "  for t in range(1, T):\n",
        "\n",
        "    i = np.random.randint(0, N)\n",
        "\n",
        "    S = update(W, S, i)\n",
        "\n",
        "    E_t[relaxation, t] = E(W0, S)\n",
        "\n",
        "  deltaW = r * (S @ S.T)\n",
        "\n",
        "  W = (W + deltaW) * topology"
      ],
      "metadata": {
        "id": "mzk-6QJNNy3P"
      },
      "execution_count": 18,
      "outputs": []
    },
    {
      "cell_type": "code",
      "source": [
        "energy['rHN-S'] = E_t"
      ],
      "metadata": {
        "id": "9yN3cWQCYR0Y"
      },
      "execution_count": 19,
      "outputs": []
    },
    {
      "cell_type": "code",
      "source": [
        "plt.plot(E_t.T)\n",
        "\n",
        "plt.xlabel('t')\n",
        "\n",
        "plt.ylabel('E')\n",
        "\n",
        "plt.show()"
      ],
      "metadata": {
        "colab": {
          "base_uri": "https://localhost:8080/",
          "height": 279
        },
        "id": "rVEGZkw5YDtN",
        "outputId": "4c9ed4da-32d0-4ed3-b656-faad17224e75"
      },
      "execution_count": 20,
      "outputs": [
        {
          "output_type": "display_data",
          "data": {
            "image/png": "[encoded data removed]",
            "text/plain": [
              "<Figure size 432x288 with 1 Axes>"
            ]
          },
          "metadata": {
            "needs_background": "light"
          }
        }
      ]
    },
    {
      "cell_type": "code",
      "source": [
        "print(f'Minimum Final Energy rHN-0: {np.min(energy[\"rHN-0\"])}')\n",
        "print(f'Mean Final Energy rHN-0: {np.mean(energy[\"rHN-0\"])}')"
      ],
      "metadata": {
        "colab": {
          "base_uri": "https://localhost:8080/"
        },
        "id": "TaVLdOWRYHKl",
        "outputId": "5f4f9314-deea-43d0-a940-6cb031bb7a3b"
      },
      "execution_count": 21,
      "outputs": [
        {
          "output_type": "stream",
          "name": "stdout",
          "text": [
            "Minimum Final Energy rHN-0: -29.925237435716376\n",
            "Mean Final Energy rHN-0: -24.750251442113683\n"
          ]
        }
      ]
    },
    {
      "cell_type": "code",
      "source": [
        "print(f'Minimum Final Energy rHN-S: {np.min(energy[\"rHN-S\"])}')\n",
        "print(f'Mean Final Energy rHN-S: {np.mean(energy[\"rHN-S\"])}')"
      ],
      "metadata": {
        "colab": {
          "base_uri": "https://localhost:8080/"
        },
        "id": "ql2HZL7NYcwZ",
        "outputId": "cb70b9ad-324f-490f-d264-25816c113f96"
      },
      "execution_count": 22,
      "outputs": [
        {
          "output_type": "stream",
          "name": "stdout",
          "text": [
            "Minimum Final Energy rHN-S: -29.925237435716376\n",
            "Mean Final Energy rHN-S: -25.987180032879294\n"
          ]
        }
      ]
    },
    {
      "cell_type": "markdown",
      "source": [
        "If we let each climber tend towards seeing climbers they've seen previously again, they seem to arrive at states where especially good global benefit is seen (low energy) regardless of the state they start in. We can look at the energy distribution of relaxed states before and after learning."
      ],
      "metadata": {
        "id": "LpPtDZygY6E1"
      }
    },
    {
      "cell_type": "code",
      "source": [
        "plt.scatter(np.arange(len(energy['rHN-0'])), energy['rHN-0'][:, -1], label='rHN-0', s=len(energy['rHN-0'])/4)\n",
        "\n",
        "plt.scatter(np.arange(len(energy['rHN-0']), len(energy['rHN-0'])*2), energy['rHN-S'][:, -1], label='rHN-S', s=len(energy['rHN-0'])/4)\n",
        "\n",
        "plt.plot([relaxations, relaxations], [np.max(energy['rHN-0'][:, -1]) + 1, np.min(energy['rHN-S'][:, -1]) - 1], '--', color='black')\n",
        "\n",
        "plt.title('End State Energy')\n",
        "\n",
        "plt.xlabel('Relaxations')\n",
        "\n",
        "plt.ylabel('Energy')\n",
        "\n",
        "plt.legend()\n",
        "\n",
        "plt.plot((0, relaxations * 2),(np.min(energy['rHN-0'][:, -1]), np.min(energy['rHN-0'][:, -1])), color='black')\n",
        "\n",
        "plt.show()"
      ],
      "metadata": {
        "colab": {
          "base_uri": "https://localhost:8080/",
          "height": 295
        },
        "id": "EEgz4mGvYqHE",
        "outputId": "eb3d827e-a3e7-483b-e9ca-6fe183b07626"
      },
      "execution_count": 23,
      "outputs": [
        {
          "output_type": "display_data",
          "data": {
            "image/png": "[encoded data removed]",
            "text/plain": [
              "<Figure size 432x288 with 1 Axes>"
            ]
          },
          "metadata": {
            "needs_background": "light"
          }
        }
      ]
    },
    {
      "cell_type": "markdown",
      "source": [
        "We can see from this graph that learning causes more final states of the network to be low energy.\n",
        "\n",
        "The low energy states the network dynamics lead to are called point attractors. If we think about the space of all possible states of a network of this type, point attractors have what's known as an attractor basin, which is a volume around the state in state space. All states within the volume of the basin of attraction will, through the dynamics of the network, change into the point attractor. In associative memory Hopfield Networks, the network remembers a state by making the attractor basin for the memory state larger.\n",
        "\n",
        "In Hebbian learning on rHN-S, we let the dynamics of the network change the state to a point attractor, then we enlarge the basin of attraction for the point attractor, making it more likely that we arrive at this state again from other initial states. Therefore, rHN-S uses Hebbian learning to model the attractors it already has, enlarging the basins in proportion to the frequency that the point attractor is visited.\n",
        "\n",
        "Applying this to the climbing example, each climber dynamically changes climbing gym to gain as much benefit as possible. Once all the climbers have settled, their organisation is a point attractor. Each individual then remembers that this is a configuration of the population they've seen, so that the next time they are randomly distributed between the two gyms, they are more likely to dynamically change to the previous point attractor.\n",
        "\n",
        "This is beneficial for the climbers because the benefit afforded to the population of climbers is more regularly high if they are more likely to traverse to a low energy state.\n",
        "\n",
        "Enlarging attractor basins in this way gives rise to the notion of spurious attractors, these being the attractor basins of states that share some but not all of the features of states whos basins of attraction have been enlarged. States are then attracted to the spurious attractors even when the states of the attractors haven't been explicitly visited and learned.\n",
        "\n",
        "Through the notion of spurious attractors we have the posibility of enlarging attractor basins we would otherwise not visit. The states spurious attractor states give the network the opportunity to learn a final configuration that has lower energy than any other attractor basin visited.\n",
        "\n",
        "The population of climbers might find that when certain individuals are together at the same gym global benefit increases, so they learn to occupy this kind of state more often. Further, they may find that when another group of climbers is at the opposite gym to the original group that global benefit increases and so they learn this state. Calling the original group A and the other group B, the attractor basins created by learning the behaviour of these two groups could create a spurious attractor between the two basins, one where the state for the attractor makes it such that groups A and B go to their respective high performance gyms every time. Assuming there are no drawback to doing so, this organisation change leads to the benefit of the behaviour from each group seperately to be combined into one lower energy, higher benefit behaviour.\n",
        "\n",
        "Discovering such an attractor requires that the initial states regularly enlarge the spurious attractor until it is likely to be visited and then directly learned. "
      ],
      "metadata": {
        "id": "dcsQqSwccEqg"
      }
    },
    {
      "cell_type": "code",
      "source": [
        ""
      ],
      "metadata": {
        "id": "Al7fmGanrWMw"
      },
      "execution_count": 23,
      "outputs": []
    }
  ]
}